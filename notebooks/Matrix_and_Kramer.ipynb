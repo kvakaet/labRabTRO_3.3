{
 "cells": [
  {
   "cell_type": "markdown",
   "id": "5f6d0082",
   "metadata": {},
   "source": [
    "# Матричный метод\n",
    "\n",
    "Метод обратной матрицы — это метод, использующийся при решении СЛАУ в том случае, если число неизвестных равняется числу уравнений."
   ]
  },
  {
   "cell_type": "markdown",
   "id": "2b63e7f8",
   "metadata": {},
   "source": [
    "Матричный вид записи: $ A * X = B $\n",
    "где $ А $ - матрица системы, $ X $ - столбец неизвестных, $ B $ - столбец свободных коэффициентов"
   ]
  },
  {
   "cell_type": "code",
   "execution_count": 16,
   "id": "72ee5157",
   "metadata": {},
   "outputs": [],
   "source": [
    "import numpy as np"
   ]
  },
  {
   "cell_type": "code",
   "execution_count": 17,
   "id": "00402efd",
   "metadata": {},
   "outputs": [],
   "source": [
    "A = np.matrix('1 55 6; 2 5 1; -3 2 7')\n",
    "B = np.matrix('4; 8; 1')"
   ]
  },
  {
   "cell_type": "markdown",
   "id": "ea1bb99d",
   "metadata": {},
   "source": [
    "Для решения найдём обратную матрицу для A, а затем умножим её на матрицу свободных коэффициентов"
   ]
  },
  {
   "cell_type": "code",
   "execution_count": 18,
   "id": "423a9bb6",
   "metadata": {},
   "outputs": [
    {
     "name": "stdout",
     "output_type": "stream",
     "text": [
      "[[ 3.58756345]\n",
      " [-0.18147208]\n",
      " [ 1.7322335 ]]\n"
     ]
    }
   ],
   "source": [
    "A_inv = np.linalg.inv(A)\n",
    "X = A_inv * B\n",
    "print(X)"
   ]
  },
  {
   "cell_type": "markdown",
   "id": "a792f250",
   "metadata": {},
   "source": [
    "# Метод Крамера\n",
    "Для использования метода Крамера необходимо, чтобы определитель матрицы не был равен нулю.\n",
    "\n",
    "$ det(A) ≠ 0 $"
   ]
  },
  {
   "cell_type": "code",
   "execution_count": 19,
   "id": "54e25752",
   "metadata": {},
   "outputs": [
    {
     "name": "stdout",
     "output_type": "stream",
     "text": [
      "-788.0\n"
     ]
    }
   ],
   "source": [
    "A = np.matrix('1 55 6; 2 5 1; -3 2 7')\n",
    "B = np.matrix('4; 8; 1')\n",
    "det_A = round(np.linalg.det(A), 3)\n",
    "print(det_A)"
   ]
  },
  {
   "cell_type": "markdown",
   "id": "334e4f7f",
   "metadata": {},
   "source": [
    "$ det(A) = -25 $, значит, можно использовать метод Крамера\n",
    "\n",
    "\n",
    "$ x_n = det(An) / det(A) $"
   ]
  },
  {
   "cell_type": "code",
   "execution_count": 23,
   "id": "a6737293",
   "metadata": {},
   "outputs": [
    {
     "name": "stdout",
     "output_type": "stream",
     "text": [
      "[[ 4 -4  3]\n",
      " [ 8 -2  4]\n",
      " [ 1 -1  5]]\n",
      "Определитель равен 102.0\n",
      "X = -0.12944162436548223\n",
      "[[ 1  4  6]\n",
      " [ 2  8  1]\n",
      " [-3  1  7]]\n",
      "Определитель равен 143.0\n",
      "X = -0.1814720812182741\n",
      "[[ 1 55  4]\n",
      " [ 2  5  8]\n",
      " [-3  2  1]]\n",
      "Определитель равен -1365.0\n",
      "X = 1.732233502538071\n"
     ]
    }
   ],
   "source": [
    "for i in range(len(A)):\n",
    "    A[:,i] = B\n",
    "    det_Ax = round(np.linalg.det(A), 3)\n",
    "    print(A)\n",
    "    A = np.matrix('1 55 6; 2 5 1; -3 2 7')\n",
    "    print(f'Определитель равен {det_Ax}')\n",
    "    print(f'X = {det_Ax / det_A}')\n",
    "    "
   ]
  }
 ],
 "metadata": {
  "kernelspec": {
   "display_name": "Python 3 (ipykernel)",
   "language": "python",
   "name": "python3"
  },
  "language_info": {
   "codemirror_mode": {
    "name": "ipython",
    "version": 3
   },
   "file_extension": ".py",
   "mimetype": "text/x-python",
   "name": "python",
   "nbconvert_exporter": "python",
   "pygments_lexer": "ipython3",
   "version": "3.9.13"
  }
 },
 "nbformat": 4,
 "nbformat_minor": 5
}
